{
 "cells": [
  {
   "cell_type": "markdown",
   "id": "6cd05091",
   "metadata": {},
   "source": [
    "# ProfileScope: Social Media Profile Analysis Demo\n",
    "\n",
    "This notebook demonstrates how to use ProfileScope to analyze social media profiles and interpret the results."
   ]
  },
  {
   "cell_type": "markdown",
   "id": "41811f5a",
   "metadata": {},
   "source": [
    "## Setup and Installation\n",
    "\n",
    "First, let's import the required modules and set up our environment."
   ]
  },
  {
   "cell_type": "code",
   "execution_count": null,
   "id": "2914e15b",
   "metadata": {},
   "outputs": [],
   "source": [
    "import sys\n",
    "import os\n",
    "import json\n",
    "from datetime import datetime\n",
    "import pandas as pd\n",
    "import matplotlib.pyplot as plt\n",
    "import seaborn as sns\n",
    "\n",
    "# Add the project root to the path so we can import our modules\n",
    "sys.path.append(os.path.abspath('..'))\n",
    "\n",
    "# Import ProfileScope modules\n",
    "from app.core.analyzer import SocialMediaAnalyzer\n",
    "\n",
    "# Set plot style\n",
    "sns.set(style=\"whitegrid\")\n",
    "plt.rcParams[\"figure.figsize\"] = (12, 6)"
   ]
  },
  {
   "cell_type": "markdown",
   "id": "7c2db623",
   "metadata": {},
   "source": [
    "## Basic Usage: Simple Test\n",
    "\n",
    "Let's create a simple example to verify that our analyzer works properly:"
   ]
  },
  {
   "cell_type": "code",
   "execution_count": null,
   "id": "211d3016",
   "metadata": {},
   "outputs": [],
   "source": [
    "# Initialize the analyzer\n",
    "analyzer = SocialMediaAnalyzer()\n",
    "\n",
    "# Print config to verify\n",
    "print(\"Analyzer configuration:\")\n",
    "print(json.dumps(analyzer.config, indent=2))"
   ]
  },
  {
   "cell_type": "code",
   "execution_count": null,
   "id": "6273bcac",
   "metadata": {},
   "outputs": [],
   "source": [
    "# Define a test profile\n",
    "platform = \"twitter\"\n",
    "profile_id = \"test_user\"\n",
    "\n",
    "# Perform a test analysis\n",
    "results = analyzer.analyze_profile(platform, profile_id)\n",
    "\n",
    "# Print results summary\n",
    "print(f\"Analysis completed for {profile_id} on {platform}\")\n",
    "print(f\"Analysis date: {results['metadata']['analysis_date']}\")\n",
    "print(f\"Analyzer version: {results['metadata']['analyzer_version']}\")"
   ]
  },
  {
   "cell_type": "markdown",
   "id": "c105d5ea",
   "metadata": {},
   "source": [
    "## Exploring the Results\n",
    "\n",
    "Now let's explore what's in the analysis results:"
   ]
  },
  {
   "cell_type": "code",
   "execution_count": null,
   "id": "50c0be65",
   "metadata": {},
   "outputs": [],
   "source": [
    "# Let's see what top-level keys are in the results\n",
    "print(\"Results structure:\")\n",
    "for key in results.keys():\n",
    "    print(f\"- {key}\")"
   ]
  },
  {
   "cell_type": "markdown",
   "id": "e27cb956",
   "metadata": {},
   "source": [
    "## Creating Visualizations\n",
    "\n",
    "Let's create some simple visualizations of our results:"
   ]
  },
  {
   "cell_type": "code",
   "execution_count": null,
   "id": "6fea8d0e",
   "metadata": {},
   "outputs": [],
   "source": [
    "# Create a simple bar chart of personality traits\n",
    "if 'personality_traits' in results['content_analysis']:\n",
    "    traits = results['content_analysis']['personality_traits']\n",
    "    \n",
    "    # Convert to DataFrame for easier plotting\n",
    "    traits_df = pd.DataFrame(list(traits.items()), columns=['Trait', 'Score'])\n",
    "    traits_df = traits_df.sort_values('Score', ascending=False)\n",
    "    \n",
    "    plt.figure(figsize=(10, 6))\n",
    "    sns.barplot(x='Score', y='Trait', data=traits_df)\n",
    "    plt.title('Personality Traits Analysis')\n",
    "    plt.xlim(0, 1)\n",
    "    plt.tight_layout()\n",
    "    plt.show()"
   ]
  },
  {
   "cell_type": "code",
   "execution_count": null,
   "id": "6d99b1a1",
   "metadata": {},
   "outputs": [],
   "source": [
    "# Visualize authenticity components if available\n",
    "if 'authenticity_analysis' in results and 'overall_authenticity' in results['authenticity_analysis']:\n",
    "    auth = results['authenticity_analysis']['overall_authenticity']\n",
    "    \n",
    "    # Create a pie chart\n",
    "    labels = ['Authentic', 'Risk']\n",
    "    sizes = [auth['score'], 1 - auth['score']]\n",
    "    colors = ['#66b3ff', '#ff9999']\n",
    "    explode = (0.1, 0)  # explode the first slice for emphasis\n",
    "    \n",
    "    plt.figure(figsize=(8, 8))\n",
    "    plt.pie(sizes, explode=explode, labels=labels, colors=colors,\n",
    "            autopct='%1.1f%%', shadow=True, startangle=90)\n",
    "    plt.axis('equal')  # Equal aspect ratio ensures that pie is drawn as a circle.\n",
    "    plt.title('Profile Authenticity Analysis')\n",
    "    plt.show()"
   ]
  },
  {
   "cell_type": "markdown",
   "id": "1f89a754",
   "metadata": {},
   "source": [
    "## Exporting Results\n",
    "\n",
    "Let's export our analysis results for later use or sharing:"
   ]
  },
  {
   "cell_type": "code",
   "execution_count": null,
   "id": "666449c3",
   "metadata": {},
   "outputs": [],
   "source": [
    "# Create output directory\n",
    "output_dir = \"../output\"\n",
    "os.makedirs(output_dir, exist_ok=True)\n",
    "\n",
    "# Generate output filename with timestamp\n",
    "timestamp = datetime.now().strftime(\"%Y%m%d_%H%M%S\")\n",
    "output_file = f\"{output_dir}/{platform}_{profile_id}_{timestamp}.json\"\n",
    "\n",
    "# Export the results\n",
    "analyzer.export_results(results, output_file)\n",
    "print(f\"Results exported to: {output_file}\")"
   ]
  },
  {
   "cell_type": "markdown",
   "id": "024282fc",
   "metadata": {},
   "source": [
    "## Project Maintenance\n",
    "\n",
    "ProfileScope includes utilities for project maintenance, such as the cleanup script. Here's how to use it:"
   ]
  },
  {
   "cell_type": "code",
   "execution_count": null,
   "id": "492967dc",
   "metadata": {},
   "outputs": [],
   "source": [
    "# Example of running the cleanup script from Python\n",
    "import subprocess\n",
    "\n",
    "def run_cleanup(verbose=True):\n",
    "    \"\"\"Run the ProfileScope cleanup script\"\"\"\n",
    "    script_path = os.path.join(os.path.abspath('..'), 'scripts', 'cleanup.sh')\n",
    "    \n",
    "    if not os.path.exists(script_path):\n",
    "        print(f\"Cleanup script not found at: {script_path}\")\n",
    "        return False\n",
    "    \n",
    "    try:\n",
    "        result = subprocess.run(['bash', script_path], \n",
    "                               capture_output=True, \n",
    "                               text=True, \n",
    "                               check=True)\n",
    "        if verbose:\n",
    "            print(\"Cleanup completed successfully\")\n",
    "            print(\"Output:\")\n",
    "            print(result.stdout)\n",
    "        return True\n",
    "    except subprocess.CalledProcessError as e:\n",
    "        print(f\"Error running cleanup script: {e}\")\n",
    "        if verbose:\n",
    "            print(\"Error output:\")\n",
    "            print(e.stderr)\n",
    "        return False\n",
    "\n",
    "# Uncomment to run cleanup (use carefully!)\n",
    "# run_cleanup()"
   ]
  },
  {
   "cell_type": "markdown",
   "id": "2cb8fe9f",
   "metadata": {},
   "source": [
    "### Running Tests with Automatic Cleanup\n",
    "\n",
    "ProfileScope now supports automatically running the cleanup script before tests. Let's see how to use it:"
   ]
  },
  {
   "cell_type": "code",
   "execution_count": null,
   "id": "a9f2a7d9",
   "metadata": {},
   "outputs": [],
   "source": [
    "# Run tests with automatic cleanup\n",
    "def run_tests_with_cleanup():\n",
    "    \"\"\"Run tests with automatic cleanup first\"\"\"\n",
    "    script_path = os.path.join(os.path.abspath('..'), 'run_tests.py')\n",
    "    \n",
    "    if not os.path.exists(script_path):\n",
    "        print(f\"Test runner script not found at: {script_path}\")\n",
    "        return False\n",
    "    \n",
    "    try:\n",
    "        print(\"Running tests with automatic cleanup...\")\n",
    "        result = subprocess.run([sys.executable, script_path], \n",
    "                              capture_output=True, \n",
    "                              text=True)\n",
    "        \n",
    "        print(\"Test output:\")\n",
    "        print(result.stdout)\n",
    "        \n",
    "        if result.returncode == 0:\n",
    "            print(\"\\n✅ All tests passed!\")\n",
    "            return True\n",
    "        else:\n",
    "            print(\"\\n❌ Some tests failed.\")\n",
    "            if result.stderr:\n",
    "                print(\"Error output:\")\n",
    "                print(result.stderr)\n",
    "            return False\n",
    "    except Exception as e:\n",
    "        print(f\"Error running tests: {e}\")\n",
    "        return False\n",
    "\n",
    "# Uncomment to run tests with automatic cleanup\n",
    "# run_tests_with_cleanup()"
   ]
  },
  {
   "cell_type": "markdown",
   "id": "c98f5089",
   "metadata": {},
   "source": [
    "### Preventing Duplicate Cleanup Runs\n",
    "\n",
    "Our testing system now prevents cleanup from running twice by using an environment variable to track whether cleanup has already run:"
   ]
  },
  {
   "cell_type": "code",
   "execution_count": null,
   "id": "b4af315e",
   "metadata": {},
   "outputs": [],
   "source": [
    "# Example of checking and managing cleanup status\n",
    "def check_cleanup_status():\n",
    "    \"\"\"Check and manage cleanup status\"\"\"\n",
    "    if os.environ.get(\"PROFILESCOPE_CLEANUP_RUN\") == \"1\":\n",
    "        print(\"Cleanup has already been run in this session\")\n",
    "        return True\n",
    "    else:\n",
    "        print(\"Cleanup has not been run yet\")\n",
    "        return False\n",
    "\n",
    "def reset_cleanup_status():\n",
    "    \"\"\"Reset cleanup status to force running it again\"\"\"\n",
    "    if \"PROFILESCOPE_CLEANUP_RUN\" in os.environ:\n",
    "        del os.environ[\"PROFILESCOPE_CLEANUP_RUN\"]\n",
    "        print(\"Cleanup status reset - will run again on next test\")\n",
    "    else:\n",
    "        print(\"Cleanup status was not set\")\n",
    "\n",
    "# Check current cleanup status\n",
    "check_cleanup_status()"
   ]
  },
  {
   "cell_type": "markdown",
   "id": "20fa1666",
   "metadata": {},
   "source": [
    "### Using Alternative Test Runners\n",
    "\n",
    "In case you encounter issues with pytest plugins like pytest-html, we provide alternative test runners:"
   ]
  },
  {
   "cell_type": "code",
   "execution_count": null,
   "id": "26efb416",
   "metadata": {},
   "outputs": [],
   "source": [
    "# Run tests with simple XML report (more reliable than HTML reports)\n",
    "def run_simple_tests():\n",
    "    \"\"\"Run tests with simple XML reporting\"\"\"\n",
    "    script_path = os.path.join(os.path.abspath('..'), 'run_simple_tests.py')\n",
    "    \n",
    "    if not os.path.exists(script_path):\n",
    "        print(f\"Simple test runner script not found at: {script_path}\")\n",
    "        return False\n",
    "    \n",
    "    try:\n",
    "        print(\"Running simplified tests...\")\n",
    "        result = subprocess.run([sys.executable, script_path], \n",
    "                              capture_output=True, \n",
    "                              text=True)\n",
    "        \n",
    "        print(\"Test output:\")\n",
    "        print(result.stdout)\n",
    "        \n",
    "        if result.returncode == 0:\n",
    "            print(\"\\n✅ All tests passed!\")\n",
    "            return True\n",
    "        else:\n",
    "            print(\"\\n❌ Some tests failed.\")\n",
    "            if result.stderr:\n",
    "                print(\"Error output:\")\n",
    "                print(result.stderr)\n",
    "            return False\n",
    "    except Exception as e:\n",
    "        print(f\"Error running tests: {e}\")\n",
    "        return False\n",
    "\n",
    "# Run tests directly with pytest\n",
    "def run_direct_pytest():\n",
    "    \"\"\"Run tests directly with pytest\"\"\"\n",
    "    try:\n",
    "        print(\"Running pytest directly...\")\n",
    "        # First run cleanup\n",
    "        if not check_cleanup_status():\n",
    "            run_cleanup(verbose=False)\n",
    "        \n",
    "        # Run pytest directly\n",
    "        result = subprocess.run([sys.executable, '-m', 'pytest'], \n",
    "                              capture_output=True, \n",
    "                              text=True,\n",
    "                              cwd=os.path.abspath('..'))\n",
    "        \n",
    "        print(\"Test output:\")\n",
    "        print(result.stdout)\n",
    "        \n",
    "        if result.returncode == 0:\n",
    "            print(\"\\n✅ All tests passed!\")\n",
    "            return True\n",
    "        else:\n",
    "            print(\"\\n❌ Some tests failed.\")\n",
    "            if result.stderr:\n",
    "                print(\"Error output:\")\n",
    "                print(result.stderr)\n",
    "            return False\n",
    "    except Exception as e:\n",
    "        print(f\"Error running tests: {e}\")\n",
    "        return False\n",
    "\n",
    "# Use run_direct_pytest() or run_simple_tests() if you encounter issues with the standard test runner"
   ]
  },
  {
   "cell_type": "markdown",
   "id": "f5b0eb8b",
   "metadata": {},
   "source": [
    "## Conclusion\n",
    "\n",
    "In this notebook, we've demonstrated how to:\n",
    "\n",
    "1. Set up and initialize the ProfileScope analyzer\n",
    "2. Perform a basic profile analysis\n",
    "3. Explore and visualize the results\n",
    "4. Export the results for sharing or further analysis\n",
    "5. Perform maintenance tasks like cleanup\n",
    "6. Run tests with automatic cleanup\n",
    "7. Manage cleanup run status to prevent duplicate runs\n",
    "8. Use alternative test runners for better compatibility\n",
    "\n",
    "To learn more about ProfileScope's features and capabilities, check out the documentation and additional examples."
   ]
  }
 ],
 "metadata": {
  "language_info": {
   "name": "python"
  }
 },
 "nbformat": 4,
 "nbformat_minor": 5
}
